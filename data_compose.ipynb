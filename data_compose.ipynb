{
 "cells": [
  {
   "cell_type": "code",
   "execution_count": 3,
   "metadata": {},
   "outputs": [],
   "source": [
    "import torch\n",
    "from torchvision import datasets, transforms\n",
    "import PIL\n"
   ]
  },
  {
   "cell_type": "code",
   "execution_count": 5,
   "metadata": {},
   "outputs": [],
   "source": [
    "# Define a transform to normalize the data\n",
    "transform = transforms.Compose([transforms.ToTensor(),\n",
    "                                transforms.Normalize((0.5,), (0.5,))])\n",
    "\n",
    "# Download and load the training data\n",
    "trainset = datasets.MNIST('./MNIST_data/', download=True, train=True, transform=transform)\n",
    "trainloader = torch.utils.data.DataLoader(trainset, batch_size=64, shuffle=True)\n",
    "\n",
    "new_data = []\n",
    "\n",
    "# Iterate over the dataset, extract 1s, 2s, 3s, 4s\n",
    "for images, labels in trainloader:\n",
    "    for i in range(len(labels)):\n",
    "        if labels[i] in [1, 2]:\n",
    "            new_image = images[i].clone()  # Copy the image\n",
    "            # This is to add 3 or 4 at the bottom-right corner of 1 and 2\n",
    "            for image_small, label_small in trainloader:\n",
    "                for j in range(len(label_small)):\n",
    "                    if label_small[j] in [3, 4]:\n",
    "                        # Convert tensor to numpy array and remove the first dimension\n",
    "                        numpy_image = image_small[j].numpy().squeeze()\n",
    "\n",
    "                        # Convert numpy array to PIL image\n",
    "                        pil_image = PIL.Image.fromarray(numpy_image)\n",
    "\n",
    "                        # Resize to 7x7\n",
    "                        transform_resize = transforms.Compose([transforms.Resize((7, 7)), transforms.ToTensor()])\n",
    "                        small_image = transform_resize(pil_image)\n",
    "\n",
    "                        # Overlay small_image at the bottom right corner of new_image\n",
    "                        new_image[0, -7:, -7:] = small_image[0, :, :]\n",
    "\n",
    "                        new_data.append((new_image, labels[i]))  # Append the new image and the label to the new_data\n",
    "                        break\n",
    "                else:\n",
    "                    continue\n",
    "                break\n",
    "        else:\n",
    "            continue\n",
    "\n",
    "new_trainloader = torch.utils.data.DataLoader(new_data, batch_size=64, shuffle=True)\n"
   ]
  },
  {
   "cell_type": "code",
   "execution_count": 6,
   "metadata": {},
   "outputs": [
    {
     "data": {
      "image/png": "[encoded data removed]",
      "text/plain": [
       "<Figure size 2000x200 with 8 Axes>"
      ]
     },
     "metadata": {},
     "output_type": "display_data"
    }
   ],
   "source": [
    "import matplotlib.pyplot as plt\n",
    "\n",
    "# Plot the first 8 images\n",
    "fig, axs = plt.subplots(1, 8, figsize=(20, 2))\n",
    "\n",
    "for i, (image, label) in enumerate(new_data[:8]):\n",
    "    axs[i].imshow(image.squeeze().numpy(), cmap='gray')\n",
    "    axs[i].set_title('Label: '+str(label.item()))\n",
    "    axs[i].axis('off')\n",
    "\n",
    "plt.show()\n"
   ]
  }
 ],
 "metadata": {
  "kernelspec": {
   "display_name": "base",
   "language": "python",
   "name": "python3"
  },
  "language_info": {
   "codemirror_mode": {
    "name": "ipython",
    "version": 3
   },
   "file_extension": ".py",
   "mimetype": "text/x-python",
   "name": "python",
   "nbconvert_exporter": "python",
   "pygments_lexer": "ipython3",
   "version": "3.10.9"
  },
  "orig_nbformat": 4
 },
 "nbformat": 4,
 "nbformat_minor": 2
}
